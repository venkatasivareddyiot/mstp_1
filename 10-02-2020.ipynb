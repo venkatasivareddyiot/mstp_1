{
 "cells": [
  {
   "cell_type": "markdown",
   "metadata": {},
   "source": [
    "### Fuctions"
   ]
  },
  {
   "cell_type": "code",
   "execution_count": null,
   "metadata": {},
   "outputs": [],
   "source": [
    "#its a group of instructions\n",
    "# a^2+b^2+2*a*b=(a+b)**2"
   ]
  },
  {
   "cell_type": "code",
   "execution_count": 1,
   "metadata": {},
   "outputs": [],
   "source": [
    "def square(a,b):\n",
    "    s=(a**2+b**2+2*a*b)\n",
    "    return s"
   ]
  },
  {
   "cell_type": "code",
   "execution_count": 2,
   "metadata": {},
   "outputs": [
    {
     "data": {
      "text/plain": [
       "25"
      ]
     },
     "execution_count": 2,
     "metadata": {},
     "output_type": "execute_result"
    }
   ],
   "source": [
    "square(2,3)"
   ]
  },
  {
   "cell_type": "code",
   "execution_count": 3,
   "metadata": {},
   "outputs": [],
   "source": [
    "#9 1,3,9\n",
    "#printing sum of factors\n",
    "def sumfact(n):\n",
    "    i=1\n",
    "    summ=0\n",
    "    for i in range(1,n+1):\n",
    "        if(n%i==0):\n",
    "            summ=summ+i\n",
    "    print(summ)"
   ]
  },
  {
   "cell_type": "code",
   "execution_count": 5,
   "metadata": {},
   "outputs": [
    {
     "name": "stdout",
     "output_type": "stream",
     "text": [
      "1651\n"
     ]
    }
   ],
   "source": [
    "sumfact(576)"
   ]
  },
  {
   "cell_type": "code",
   "execution_count": 6,
   "metadata": {},
   "outputs": [],
   "source": [
    "def deaf():\n",
    "    a=8\n",
    "    b=10\n",
    "    return(a+b)"
   ]
  },
  {
   "cell_type": "code",
   "execution_count": 10,
   "metadata": {},
   "outputs": [
    {
     "data": {
      "text/plain": [
       "36"
      ]
     },
     "execution_count": 10,
     "metadata": {},
     "output_type": "execute_result"
    }
   ],
   "source": [
    "deaf()*2"
   ]
  },
  {
   "cell_type": "code",
   "execution_count": 8,
   "metadata": {},
   "outputs": [],
   "source": [
    "def dump():\n",
    "    a=100\n",
    "    b=20\n",
    "    print(a*b)"
   ]
  },
  {
   "cell_type": "code",
   "execution_count": 14,
   "metadata": {},
   "outputs": [
    {
     "name": "stdout",
     "output_type": "stream",
     "text": [
      "18\n",
      "2000\n"
     ]
    }
   ],
   "source": [
    "print(deaf())\n",
    "dump()\n"
   ]
  },
  {
   "cell_type": "code",
   "execution_count": 25,
   "metadata": {},
   "outputs": [],
   "source": [
    "#pallendrom\n",
    "def palendrome(s):\n",
    "    s1=s[::-1]\n",
    "    if(s==s1):\n",
    "        return True\n",
    "    return False\n",
    "    "
   ]
  },
  {
   "cell_type": "code",
   "execution_count": 28,
   "metadata": {},
   "outputs": [
    {
     "data": {
      "text/plain": [
       "True"
      ]
     },
     "execution_count": 28,
     "metadata": {},
     "output_type": "execute_result"
    }
   ],
   "source": [
    "palendrome(\"level\")"
   ]
  },
  {
   "cell_type": "code",
   "execution_count": 17,
   "metadata": {},
   "outputs": [
    {
     "data": {
      "text/plain": [
       "True"
      ]
     },
     "execution_count": 17,
     "metadata": {},
     "output_type": "execute_result"
    }
   ],
   "source": [
    "s=\"madam\"\n",
    "s[::-1]==s"
   ]
  },
  {
   "cell_type": "code",
   "execution_count": 23,
   "metadata": {},
   "outputs": [
    {
     "data": {
      "text/plain": [
       "'121'"
      ]
     },
     "execution_count": 23,
     "metadata": {},
     "output_type": "execute_result"
    }
   ],
   "source": [
    "a=121\n",
    "b=str(a)\n",
    "b"
   ]
  },
  {
   "cell_type": "code",
   "execution_count": 8,
   "metadata": {},
   "outputs": [],
   "source": [
    "# function for prime no\n",
    "def prime(n):\n",
    "    fcount=0\n",
    "    if(n==1):\n",
    "        return False\n",
    "    if(n==2):\n",
    "        return True\n",
    "    else:\n",
    "        for i in range(2,int(n/2)+1):\n",
    "            if(n%i==0):\n",
    "                fcount=fcount+1\n",
    "    if(fcount==0):\n",
    "        return True\n",
    "    return False"
   ]
  },
  {
   "cell_type": "code",
   "execution_count": null,
   "metadata": {},
   "outputs": [
    {
     "name": "stdout",
     "output_type": "stream",
     "text": [
      "9876543210\n"
     ]
    }
   ],
   "source": [
    "#take a input no from user and print the sum of prime factors of a given no\n",
    "n=int(input())\n",
    "prsum=0\n",
    "for i in range(1,n+1):\n",
    "    if(n%i==0):\n",
    "        if(prime(i)):\n",
    "            prsum=prsum+i\n",
    "print(prsum)\n",
    "        "
   ]
  },
  {
   "cell_type": "markdown",
   "metadata": {},
   "source": [
    "- print all leap years in a given range\n",
    "- print no leap years in a given range\n",
    "- print all even factors for a given no\n",
    "- print all the prime no in a given range\n",
    "- print no of primefactors for a given  no "
   ]
  },
  {
   "cell_type": "code",
   "execution_count": 1,
   "metadata": {},
   "outputs": [],
   "source": [
    "def leap(n):\n",
    "    if((n%4==0 and n%100!=0)or(n%400==0)):\n",
    "        return True\n",
    "    return False"
   ]
  },
  {
   "cell_type": "code",
   "execution_count": 2,
   "metadata": {},
   "outputs": [
    {
     "data": {
      "text/plain": [
       "True"
      ]
     },
     "execution_count": 2,
     "metadata": {},
     "output_type": "execute_result"
    }
   ],
   "source": [
    "leap(2000)"
   ]
  },
  {
   "cell_type": "code",
   "execution_count": 3,
   "metadata": {},
   "outputs": [
    {
     "name": "stdout",
     "output_type": "stream",
     "text": [
      "enter lower boundary2000\n",
      "enter upper boundary2020\n",
      "2000\n",
      "2004\n",
      "2008\n",
      "2012\n",
      "2016\n",
      "2020\n"
     ]
    }
   ],
   "source": [
    "lb=int(input(\"enter lower boundary\"))\n",
    "ub=int(input(\"enter upper boundary\"))\n",
    "for i in range(lb,ub+1):\n",
    "    if(leap(i)):\n",
    "        print(i)"
   ]
  },
  {
   "cell_type": "code",
   "execution_count": 4,
   "metadata": {},
   "outputs": [
    {
     "name": "stdout",
     "output_type": "stream",
     "text": [
      "enter lower boundary2000\n",
      "enter upper boundary2020\n",
      "6\n"
     ]
    }
   ],
   "source": [
    "lb=int(input(\"enter lower boundary\"))\n",
    "ub=int(input(\"enter upper boundary\"))\n",
    "count=0\n",
    "for i in range(lb,ub+1):\n",
    "    if(leap(i)):\n",
    "        count=count+1\n",
    "print(count)"
   ]
  },
  {
   "cell_type": "code",
   "execution_count": 5,
   "metadata": {},
   "outputs": [
    {
     "data": {
      "text/plain": [
       "True"
      ]
     },
     "execution_count": 5,
     "metadata": {},
     "output_type": "execute_result"
    }
   ],
   "source": [
    "def even(n):\n",
    "    if(n%2==0):\n",
    "        return True\n",
    "    return False\n",
    "even(6)"
   ]
  },
  {
   "cell_type": "code",
   "execution_count": 7,
   "metadata": {},
   "outputs": [
    {
     "name": "stdout",
     "output_type": "stream",
     "text": [
      "Enter a no12\n",
      "2\n",
      "4\n",
      "6\n",
      "12\n"
     ]
    }
   ],
   "source": [
    "n=int(input(\"Enter a no\"))\n",
    "for i in range(1,n+1):\n",
    "    if(n%i==0):\n",
    "        if(even(i)):\n",
    "            print(i)"
   ]
  },
  {
   "cell_type": "code",
   "execution_count": 9,
   "metadata": {},
   "outputs": [
    {
     "name": "stdout",
     "output_type": "stream",
     "text": [
      "enter  lower boundary1\n",
      "enter  upper boundary100\n",
      "2\n",
      "3\n",
      "5\n",
      "7\n",
      "11\n",
      "13\n",
      "17\n",
      "19\n",
      "23\n",
      "29\n",
      "31\n",
      "37\n",
      "41\n",
      "43\n",
      "47\n",
      "53\n",
      "59\n",
      "61\n",
      "67\n",
      "71\n",
      "73\n",
      "79\n",
      "83\n",
      "89\n",
      "97\n"
     ]
    }
   ],
   "source": [
    "lb=int(input(\"enter  lower boundary\"))\n",
    "ub=int(input(\"enter  upper boundary\"))\n",
    "for i in range(lb,ub+1):\n",
    "    if(prime(i)):\n",
    "        print(i)"
   ]
  },
  {
   "cell_type": "code",
   "execution_count": 12,
   "metadata": {},
   "outputs": [
    {
     "name": "stdout",
     "output_type": "stream",
     "text": [
      "12\n",
      "2\n",
      "3\n"
     ]
    }
   ],
   "source": [
    "n=int(input())\n",
    "for i in range(1,n+1):\n",
    "    if(n%i==0):\n",
    "        if(prime(i)):\n",
    "            print(i)"
   ]
  },
  {
   "cell_type": "markdown",
   "metadata": {},
   "source": [
    "### Armstrong"
   ]
  },
  {
   "cell_type": "code",
   "execution_count": 24,
   "metadata": {},
   "outputs": [],
   "source": [
    "#Armstrong\n",
    "def armstrong(n):\n",
    "    sn=str(n)\n",
    "    ln=len(sn)\n",
    "    arm=0\n",
    "    for i in sn:\n",
    "        arm=arm+(int(i)**ln)\n",
    "    if(arm==n):\n",
    "        return True\n",
    "    return False"
   ]
  },
  {
   "cell_type": "code",
   "execution_count": 25,
   "metadata": {},
   "outputs": [
    {
     "data": {
      "text/plain": [
       "True"
      ]
     },
     "execution_count": 25,
     "metadata": {},
     "output_type": "execute_result"
    }
   ],
   "source": [
    "armstrong(371)"
   ]
  },
  {
   "cell_type": "code",
   "execution_count": 18,
   "metadata": {},
   "outputs": [
    {
     "data": {
      "text/plain": [
       "9"
      ]
     },
     "execution_count": 18,
     "metadata": {},
     "output_type": "execute_result"
    }
   ],
   "source": [
    "Function to print all numbers divisible by 6 and not a factor of 100 in a given range(lb, ub) inclusive\n",
    "\n",
    "Function to find the average of cubes of all the even numbers in a given range(lb, ub) inclusive\n",
    "\n",
    "Function to generate the list of factors for a given number\n",
    "\n",
    "Function to calculate the factorial of a given number\n",
    "\n",
    "Function to check if a given number is Prime by using recursive function\n",
    "\n",
    "Function to calculate the average first N Prime numbers  by using recursive function\n",
    "\n",
    "Function to generate all Perfect numbers in a given range  by using recursive function\n",
    "\n",
    " \n",
    "\n",
    "Advanced Problem Set( Optional )\n",
    "\n",
    "Function to calculate the average of all factorials in a given range\n",
    "\n",
    "Function to generate N odd armstrong numbers\n",
    "\n",
    "Function to generate Multiplication table for a number in a given range\n",
    "\n",
    "10 in the range(100, 102) inclusive\n",
    "\n",
    "10 x 100 = 1000\n",
    "\n",
    "10 x 101 = 1010\n",
    "\n",
    "10 x 102 = 1020"
   ]
  },
  {
   "cell_type": "code",
   "execution_count": null,
   "metadata": {},
   "outputs": [],
   "source": [
    "# Total Suface area of a given pyamid\n",
    "#Square\n",
    "#reactangular\n",
    "#triangular\n",
    "#area of square+4*(area of triangle)\n",
    "#area of ractangle(l,b),+4*areaof trinagle(h,len of side)\n",
    "#area of triangle *4"
   ]
  },
  {
   "cell_type": "code",
   "execution_count": 33,
   "metadata": {},
   "outputs": [
    {
     "name": "stdout",
     "output_type": "stream",
     "text": [
      "enter type of pyramid 1-square pyramid 2-rectangular pyramid 3-triangular pyramid3\n",
      "enter side of trinangle25\n",
      "Total Surface area 1250.0\n"
     ]
    }
   ],
   "source": [
    "n=int(input(\"enter type of pyramid 1-square pyramid 2-rectangular pyramid 3-triangular pyramid\"))\n",
    "if(n==1):\n",
    "      suqare()\n",
    "if(n==2):\n",
    "      rectangular()\n",
    "if(n==3):\n",
    "      triangular()\n",
    "      \n",
    "      "
   ]
  },
  {
   "cell_type": "code",
   "execution_count": 32,
   "metadata": {},
   "outputs": [],
   "source": [
    "def square():\n",
    "    side=int(input(\"enter len of side of square\"))\n",
    "    height=int(input(\"enter height of pyramid\"))\n",
    "    print(\"Total Surface Area:\",(side**2+4*(0.5*height*side)))"
   ]
  },
  {
   "cell_type": "code",
   "execution_count": 30,
   "metadata": {},
   "outputs": [],
   "source": [
    "def rectangular():\n",
    "    length=int(input(\"length of rectangle\"))\n",
    "    breadth=int(input(\"breadth of rect angle\"))\n",
    "    height=int(input(\"height of the pyramid\"))\n",
    "    side=int(input(\"side of triangle\"))\n",
    "    print(\"total Surface area:\",((length*breadth)+4*(0.5*height*side)))"
   ]
  },
  {
   "cell_type": "code",
   "execution_count": 29,
   "metadata": {},
   "outputs": [],
   "source": [
    "def triangular():\n",
    "    side=int(input(\"enter side of trinangle\"))\n",
    "    print(\"Total Surface area\",(4*(0.5*(side)**2)))"
   ]
  },
  {
   "cell_type": "code",
   "execution_count": null,
   "metadata": {},
   "outputs": [],
   "source": []
  }
 ],
 "metadata": {
  "kernelspec": {
   "display_name": "Python 3",
   "language": "python",
   "name": "python3"
  },
  "language_info": {
   "codemirror_mode": {
    "name": "ipython",
    "version": 3
   },
   "file_extension": ".py",
   "mimetype": "text/x-python",
   "name": "python",
   "nbconvert_exporter": "python",
   "pygments_lexer": "ipython3",
   "version": "3.7.3"
  }
 },
 "nbformat": 4,
 "nbformat_minor": 2
}
